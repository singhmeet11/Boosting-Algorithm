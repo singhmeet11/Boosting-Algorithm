{
 "cells": [
  {
   "cell_type": "code",
   "execution_count": 274,
   "id": "26048978",
   "metadata": {},
   "outputs": [],
   "source": [
    "import matplotlib.pyplot as plt\n",
    "import numpy as np\n",
    "import math\n",
    "\n",
    "# importing Qiskit\n",
    "import qiskit\n",
    "from qiskit import QuantumCircuit, transpile, assemble, Aer,QuantumRegister,ClassicalRegister, IBMQ\n",
    "\n",
    "# import basic plot tools\n",
    "from qiskit.visualization import plot_histogram"
   ]
  },
  {
   "cell_type": "markdown",
   "id": "a0e27aad",
   "metadata": {},
   "source": [
    "### Created a random initial state prep circuit, Gives 0,1,3,4,5,7"
   ]
  },
  {
   "cell_type": "code",
   "execution_count": 326,
   "id": "22a1420b",
   "metadata": {},
   "outputs": [],
   "source": [
    "def A(n):\n",
    "    qc = QuantumCircuit(n)\n",
    "    qc.ry(54.735610,0)\n",
    "    qc.ch(0,1)\n",
    "    qc.h(2)\n",
    "    #qc.h(3)\n",
    "    \n",
    "    Aa = qc.to_gate()\n",
    "    Aa.name = 'A'\n",
    "\n",
    "    return Aa"
   ]
  },
  {
   "cell_type": "markdown",
   "id": "e9d28f9a",
   "metadata": {},
   "source": [
    "### A dagger"
   ]
  },
  {
   "cell_type": "code",
   "execution_count": 327,
   "id": "eb9e98d1",
   "metadata": {},
   "outputs": [],
   "source": [
    "n=3\n",
    "qcd = A(n).inverse()\n",
    "qcd.label = 'Ad'"
   ]
  },
  {
   "cell_type": "markdown",
   "id": "e97410c7",
   "metadata": {},
   "source": [
    "### Grover Operator - $Q = -A S_0 A^\\dagger S_X $\n",
    "\n",
    "We ignored the negative sign in QAA and applied Grover op in this exact same order"
   ]
  },
  {
   "cell_type": "code",
   "execution_count": 349,
   "id": "5abcaef0",
   "metadata": {},
   "outputs": [],
   "source": [
    "\n",
    "def G(n):\n",
    "\n",
    "    qc = QuantumCircuit(n)\n",
    "    \n",
    "    # ORACLES - \n",
    "    \n",
    "#     #Oracle1 - marks the odd states\n",
    "#     qc.z(n-1)\n",
    "\n",
    "    #Oracle2 - marks 2 states\n",
    "    qc.cz(0,n-1)\n",
    "\n",
    "    \n",
    "#      #Oracle3 - marks 111\n",
    "#     qc.h(n-1)\n",
    "#     qc.ccx(0,1,n-1)\n",
    "#     qc.h(n-1)\n",
    "    \n",
    "#     #Oracle4 - marks 5 states (only if we have 4 qubit Grover op)\n",
    "#     qc.h([2,3])\n",
    "#     qc.ccx(0,1,2)\n",
    "#     qc.h(2)\n",
    "#     qc.x(2)\n",
    "#     qc.ccx(0,2,3)\n",
    "#     qc.x(2)\n",
    "#     qc.h(3)\n",
    "#     qc.x([1,3])\n",
    "#     qc.h(2)\n",
    "#     qc.mct([0,1,3],2)\n",
    "#     qc.x([1,3])\n",
    "#     qc.h(2)\n",
    "    \n",
    "    \n",
    "    \n",
    "    \n",
    "    # DIFFUSER - \n",
    "    \n",
    "    #Adagger for Uniform Sup\n",
    "    #qc.h(range(n))\n",
    "    \n",
    "    #Adagger for this A\n",
    "    qc.compose(qcd)\n",
    "    \n",
    "    qc.h(range(n-1))\n",
    "    qc.x(range(n-1))\n",
    "    qc.z(n-1)\n",
    "    qc.mct(list(range(n-1)),n-1)\n",
    "    qc.x(range(n-1))\n",
    "    qc.h(range(n-1))\n",
    "    qc.z(n-1)\n",
    "    \n",
    "    #qc.h(range(n))\n",
    "    qc.compose(A(n))\n",
    "\n",
    "    \n",
    "    return qc"
   ]
  },
  {
   "cell_type": "markdown",
   "id": "939c7ffc",
   "metadata": {},
   "source": [
    "### Controlled Grover operator -"
   ]
  },
  {
   "cell_type": "code",
   "execution_count": 350,
   "id": "8a596909",
   "metadata": {},
   "outputs": [],
   "source": [
    "n=3\n",
    "grit = G(n).to_gate()\n",
    "grit.label = \"Grover\"\n",
    "cgrit = grit.control()"
   ]
  },
  {
   "cell_type": "markdown",
   "id": "742e1e80",
   "metadata": {},
   "source": [
    "### QFT - "
   ]
  },
  {
   "cell_type": "code",
   "execution_count": 351,
   "id": "24fe7e21",
   "metadata": {},
   "outputs": [],
   "source": [
    "def qft(n):\n",
    "    \"\"\"Creates an n-qubit QFT circuit\"\"\"\n",
    "    circuit = QuantumCircuit(n)\n",
    "    def swap_registers(circuit, n):\n",
    "        for qubit in range(n//2):\n",
    "            circuit.swap(qubit, n-qubit-1)\n",
    "        return circuit\n",
    "    def qft_rotations(circuit, n):\n",
    "        \"\"\"Performs qft on the first n qubits in circuit (without swaps)\"\"\"\n",
    "        if n == 0:\n",
    "            return circuit\n",
    "        n -= 1\n",
    "        circuit.h(n)\n",
    "        for qubit in range(n):\n",
    "            circuit.cp(np.pi/2**(n-qubit), qubit, n)\n",
    "        qft_rotations(circuit, n)\n",
    "    \n",
    "    qft_rotations(circuit, n)\n",
    "    swap_registers(circuit, n)\n",
    "    \n",
    "    qq = circuit.to_gate()\n",
    "    qq.name = 'QFT'\n",
    "    \n",
    "    return qq"
   ]
  },
  {
   "cell_type": "markdown",
   "id": "bc53e890",
   "metadata": {},
   "source": [
    "### QFTi"
   ]
  },
  {
   "cell_type": "code",
   "execution_count": 352,
   "id": "c548ca54",
   "metadata": {},
   "outputs": [],
   "source": [
    "n=3\n",
    "qft_dagger = qft(n).inverse()\n",
    "qft_dagger.label = \"QFT†\""
   ]
  },
  {
   "cell_type": "markdown",
   "id": "8334f823",
   "metadata": {},
   "source": [
    "### QEA implementation - "
   ]
  },
  {
   "cell_type": "code",
   "execution_count": 353,
   "id": "ca79c87e",
   "metadata": {},
   "outputs": [
    {
     "data": {
      "image/png": "[encoded data removed]",
      "text/plain": [
       "<Figure size 1350.8x445.48 with 1 Axes>"
      ]
     },
     "execution_count": 353,
     "metadata": {},
     "output_type": "execute_result"
    }
   ],
   "source": [
    "#c is the number of counting qubits for QPE, depends on the amount of accuracy we want \n",
    "c = 3   \n",
    "n = 3   \n",
    "qc = QuantumCircuit(n+c, c) # Circuit with n+t qubits and t classical\n",
    "\n",
    "qc.append(qft(c), range(c))\n",
    "\n",
    "#qc.append(A(n), list(range(c,c+n)))\n",
    "\n",
    "# The Initial state for the first test case is taken as equal superposition\n",
    "for qubit in range(c, c+n):\n",
    "    qc.h(qubit)\n",
    "\n",
    "    \n",
    "qc.barrier()\n",
    "    \n",
    "# Begin controlled Grover iterations\n",
    "iterations = 1\n",
    "for qubit in range(c):\n",
    "    for i in range(iterations):\n",
    "        qc.append(cgrit, [qubit] + [*range(c, n+c)])\n",
    "    iterations *= 2\n",
    "    \n",
    "# Do inverse QFT on counting qubits\n",
    "qc.append(qft_dagger, range(c))\n",
    "\n",
    "# Measure counting qubits\n",
    "qc.measure(range(c), range(c))\n",
    "\n",
    "# Display the circuit\n",
    "qc.draw('mpl')"
   ]
  },
  {
   "cell_type": "markdown",
   "id": "194be2f8",
   "metadata": {},
   "source": [
    "### For Oracle 1-"
   ]
  },
  {
   "cell_type": "code",
   "execution_count": 347,
   "id": "c50a382a",
   "metadata": {},
   "outputs": [
    {
     "data": {
      "image/png": "[encoded data removed]",
      "text/plain": [
       "<Figure size 504x360 with 1 Axes>"
      ]
     },
     "execution_count": 347,
     "metadata": {},
     "output_type": "execute_result"
    }
   ],
   "source": [
    "aer_sim = Aer.get_backend('aer_simulator')\n",
    "transpiled_qc = transpile(qc, aer_sim)\n",
    "qobj = assemble(transpiled_qc)\n",
    "job = aer_sim.run(qobj)\n",
    "count = job.result().get_counts()\n",
    "plot_histogram(count)"
   ]
  },
  {
   "cell_type": "code",
   "execution_count": 348,
   "id": "33b20be8",
   "metadata": {},
   "outputs": [
    {
     "name": "stdout",
     "output_type": "stream",
     "text": [
      "Max :  2\n",
      "Theta = 0.78540\n",
      "a = 0.50\n",
      "No. of Solutions = 4.0\n"
     ]
    }
   ],
   "source": [
    "ans = max(count, key=count.get)\n",
    "max_meas = int(ans,2)\n",
    "\n",
    "# max_meas = 12\n",
    "print(\"Max : \",max_meas)\n",
    "\n",
    "theta = (max_meas/(2**c))*math.pi\n",
    "print(\"Theta = %.5f\" % theta)\n",
    "\n",
    "N = 2**n\n",
    "a = math.sin(theta)**2\n",
    "print(\"a = %.2f\"% a)\n",
    "M = N * a\n",
    "print(\"No. of Solutions = %.1f\" % (N-M))"
   ]
  },
  {
   "cell_type": "markdown",
   "id": "cb02cc14",
   "metadata": {},
   "source": [
    "### Correct result, 1,3,5,7"
   ]
  },
  {
   "cell_type": "code",
   "execution_count": null,
   "id": "f193bfdd",
   "metadata": {},
   "outputs": [],
   "source": []
  },
  {
   "cell_type": "markdown",
   "id": "0168bdf0",
   "metadata": {},
   "source": [
    "### For Oracle 3 -"
   ]
  },
  {
   "cell_type": "code",
   "execution_count": 340,
   "id": "8651ce37",
   "metadata": {},
   "outputs": [
    {
     "data": {
      "image/png": "[encoded data removed]",
      "text/plain": [
       "<Figure size 504x360 with 1 Axes>"
      ]
     },
     "execution_count": 340,
     "metadata": {},
     "output_type": "execute_result"
    }
   ],
   "source": [
    "aer_sim = Aer.get_backend('aer_simulator')\n",
    "transpiled_qc = transpile(qc, aer_sim)\n",
    "qobj = assemble(transpiled_qc)\n",
    "job = aer_sim.run(qobj)\n",
    "count = job.result().get_counts()\n",
    "plot_histogram(count)"
   ]
  },
  {
   "cell_type": "code",
   "execution_count": 341,
   "id": "f3bc6351",
   "metadata": {},
   "outputs": [
    {
     "name": "stdout",
     "output_type": "stream",
     "text": [
      "Max :  5\n",
      "Theta = 1.96350\n",
      "a = 0.85\n",
      "No. of Solutions = 1.2\n"
     ]
    }
   ],
   "source": [
    "ans = max(count, key=count.get)\n",
    "max_meas = int(ans,2)\n",
    "\n",
    "# max_meas = 12\n",
    "print(\"Max : \",max_meas)\n",
    "\n",
    "theta = (max_meas/(2**c))*math.pi\n",
    "print(\"Theta = %.5f\" % theta)\n",
    "\n",
    "N = 2**n\n",
    "a = math.sin(theta)**2\n",
    "print(\"a = %.2f\"% a)\n",
    "M = N * a\n",
    "print(\"No. of Solutions = %.1f\" % (N-M))"
   ]
  },
  {
   "cell_type": "markdown",
   "id": "5e917ce5",
   "metadata": {},
   "source": [
    "### Problem - though here we have correct result if we round it to integer, i.e. %d in print, other times we have to use %.f only to get coreect results"
   ]
  },
  {
   "cell_type": "code",
   "execution_count": null,
   "id": "7eb2860b",
   "metadata": {},
   "outputs": [],
   "source": []
  },
  {
   "cell_type": "markdown",
   "id": "b1f587ac",
   "metadata": {},
   "source": [
    "### For Oracle 2 -"
   ]
  },
  {
   "cell_type": "code",
   "execution_count": 354,
   "id": "04504111",
   "metadata": {},
   "outputs": [
    {
     "data": {
      "image/png": "[encoded data removed]",
      "text/plain": [
       "<Figure size 504x360 with 1 Axes>"
      ]
     },
     "execution_count": 354,
     "metadata": {},
     "output_type": "execute_result"
    }
   ],
   "source": [
    "aer_sim = Aer.get_backend('aer_simulator')\n",
    "transpiled_qc = transpile(qc, aer_sim)\n",
    "qobj = assemble(transpiled_qc)\n",
    "job = aer_sim.run(qobj)\n",
    "count = job.result().get_counts()\n",
    "plot_histogram(count)"
   ]
  },
  {
   "cell_type": "code",
   "execution_count": 355,
   "id": "46a809e8",
   "metadata": {},
   "outputs": [
    {
     "name": "stdout",
     "output_type": "stream",
     "text": [
      "Max :  5\n",
      "Theta = 1.96350\n",
      "a = 0.85\n",
      "No. of Solutions = 1.2\n"
     ]
    }
   ],
   "source": [
    "ans = max(count, key=count.get)\n",
    "max_meas = int(ans,2)\n",
    "\n",
    "# max_meas = 12\n",
    "print(\"Max : \",max_meas)\n",
    "\n",
    "theta = (max_meas/(2**c))*math.pi\n",
    "print(\"Theta = %.5f\" % theta)\n",
    "\n",
    "N = 2**n\n",
    "a = math.sin(theta)**2\n",
    "print(\"a = %.2f\"% a)\n",
    "M = N * a\n",
    "print(\"No. of Solutions = %.1f\" % (N-M))"
   ]
  },
  {
   "cell_type": "markdown",
   "id": "640717d0",
   "metadata": {},
   "source": [
    "### Here we required no. of solutions as 2, but we don't get it"
   ]
  },
  {
   "cell_type": "code",
   "execution_count": null,
   "id": "ef34b606",
   "metadata": {},
   "outputs": [],
   "source": []
  },
  {
   "cell_type": "code",
   "execution_count": null,
   "id": "4054eb9c",
   "metadata": {},
   "outputs": [],
   "source": []
  },
  {
   "cell_type": "code",
   "execution_count": null,
   "id": "6737fdf8",
   "metadata": {},
   "outputs": [],
   "source": []
  },
  {
   "cell_type": "code",
   "execution_count": null,
   "id": "c475e90b",
   "metadata": {},
   "outputs": [],
   "source": []
  },
  {
   "cell_type": "code",
   "execution_count": null,
   "id": "f1a7fed0",
   "metadata": {},
   "outputs": [],
   "source": []
  },
  {
   "cell_type": "code",
   "execution_count": null,
   "id": "00bf62b8",
   "metadata": {},
   "outputs": [],
   "source": []
  },
  {
   "cell_type": "code",
   "execution_count": 357,
   "id": "a69a4698",
   "metadata": {},
   "outputs": [],
   "source": [
    "# If the above things work out, then will start with QRAM integration"
   ]
  },
  {
   "cell_type": "code",
   "execution_count": 261,
   "id": "3b3ac091",
   "metadata": {},
   "outputs": [],
   "source": [
    "def input_add_mem(no_of_address_qubits,no_of_bits_in_memory_cell):\n",
    "    mc = no_of_bits_in_memory_cell\n",
    "    a = no_of_address_qubits\n",
    "    r = 2**a # no.of routing qubits\n",
    "    m = (2**a)*mc # no. of memory qubits\n",
    "    bus_yesa = mc+a # no. of classical readout bits required when we also wanna see address \n",
    "    bus_noa = mc\n",
    "    \n",
    "    qr_a = QuantumRegister(a, \"a\")\n",
    "    qr_r = QuantumRegister(r, \"r\")\n",
    "    qr_m  = QuantumRegister(m,  \"m\")\n",
    "    qr_bus = QuantumRegister(mc, \"bus\")\n",
    "    cr = ClassicalRegister(bus_noa, \"readout\")\n",
    "    \n",
    "    qc = QuantumCircuit(qr_a,qr_r,qr_m,qr_bus, cr)\n",
    "    \n",
    "    ## you can make the superposition here to query the QRAM \n",
    "    \n",
    "    qc.h(qr_a[0])\n",
    "    qc.h(qr_a[1])\n",
    "    \n",
    "    ## add whatever you wanna add to the memory cells here \n",
    "    \n",
    "    #qc.x(qr_m[0])\n",
    "    qc.x(qr_m[3])\n",
    "    qc.x(qr_m[6])\n",
    "    qc.x(qr_m[7])\n",
    "    qc.x(qr_m[9])\n",
    "    qc.x(qr_m[11])\n",
    "    \n",
    "    # adding a barrier at the end \n",
    "    qc.barrier()\n",
    "    \n",
    "    return qc"
   ]
  },
  {
   "cell_type": "code",
   "execution_count": 128,
   "id": "d094b1bd",
   "metadata": {},
   "outputs": [],
   "source": [
    "def QRAM(no_of_address_qubits,no_of_bits_in_memory_cell):\n",
    "    mc = no_of_bits_in_memory_cell\n",
    "    a = no_of_address_qubits\n",
    "    r = 2**a # no.of routing qubits\n",
    "    m = (2**a)*mc # no. of memory qubits\n",
    "    bus_noa = mc\n",
    "    \n",
    "    qr_a = QuantumRegister(a, \"a\")\n",
    "    qr_r = QuantumRegister(r, \"r\")\n",
    "    qr_m  = QuantumRegister(m,  \"m\")\n",
    "    qr_bus = QuantumRegister(mc, \"bus\")\n",
    "    #cr = ClassicalRegister(bus_noa, \"readout\")\n",
    "    \n",
    "    qc = QuantumCircuit(qr_a,qr_r,qr_m,qr_bus)\n",
    "    \n",
    "\n",
    "    ## adding the state that will be qureied out and the memory can be stored here\n",
    "    qc = qc.compose(input_add_mem(a, mc))\n",
    "### here we will start with the branching\n",
    "    # there is X gate at the second qubit first\n",
    "    \n",
    "    qc.x(qr_r[1])\n",
    "    # the first branching \n",
    "    qc.cx(qr_a[0],qr_r[0])\n",
    "    qc.cx(qr_r[0],qr_r[1])\n",
    "    qc.barrier()\n",
    "    \n",
    "    # further branchings \n",
    "    if a==1:\n",
    "        ### measuring using measure one\n",
    "        qc = qc.compose(meas_QRAM_order(a))\n",
    "\n",
    "        ## finally measuring the bus\n",
    "        for i in range(0,a):\n",
    "            qc.measure(qr_a[i],cr[i])\n",
    "        qc.measure(qr_bus, cr[a])\n",
    "        return qc\n",
    "    else:\n",
    "        # no. of address bits = no. of rouitng iterations\n",
    "        for i in range(2,a+1):\n",
    "            for j in range(0,2**(i - 1)):\n",
    "                qc.ccx(qr_a[i-1], qr_r[j], qr_r[j + 2**(i-1)])\n",
    "                qc.cx(  qr_r[j + 2**(i-1)], qr_r[j])\n",
    "            #qc.barrier()\n",
    "\n",
    "### measuring using measure one\n",
    "    qc = qc.compose(meas_QRAM_best(a,mc))\n",
    "\n",
    "    return qc"
   ]
  },
  {
   "cell_type": "code",
   "execution_count": 129,
   "id": "4a5e5f72",
   "metadata": {},
   "outputs": [],
   "source": [
    "def binaryToDecimal(binary):\n",
    "     \n",
    "    binary1 = binary\n",
    "    decimal, i, n = 0, 0, 0\n",
    "    while(binary != 0):\n",
    "        dec = binary % 10\n",
    "        decimal = decimal + dec * pow(2, i)\n",
    "        binary = binary//10\n",
    "        i += 1\n",
    "    return decimal \n",
    "    \n",
    "def numConcat(num1, num2): # this should actually do all the additions in the form of strings and then when you finally\n",
    "                           # take out whatever is stored in the matrix then you should actually convert that to int\n",
    "  \n",
    "     # find number of digits in num2\n",
    "    digits = len(str(num2))\n",
    "    num2 = str(num2)\n",
    "    num1 = str(num1)\n",
    "  \n",
    "     # add zeroes to the end of num1\n",
    "#     num1 = num1 * (10**digits)\n",
    "  \n",
    "     # add num2 to num1\n",
    "    num1 += num2\n",
    "  \n",
    "    return num1"
   ]
  },
  {
   "cell_type": "code",
   "execution_count": null,
   "id": "5db17f6b",
   "metadata": {},
   "outputs": [],
   "source": [
    "def meas_QRAM_best(no_of_address_qubits,no_of_bits_in_memory_cell):\n",
    "    mc = no_of_bits_in_memory_cell\n",
    "    a = no_of_address_qubits\n",
    "    r = 2**a # no.of routing qubits\n",
    "    m = (2**a)*mc # no. of memory qubits\n",
    "    bus_yesa = mc+a # no. of classical readout bits required when we also wanna see address \n",
    "    bus_noa = mc\n",
    "    \n",
    "    qr_a = QuantumRegister(a, \"a\")\n",
    "    qr_r = QuantumRegister(r, \"r\")\n",
    "    qr_m  = QuantumRegister(m,  \"m\")\n",
    "    qr_bus = QuantumRegister(mc, \"bus\")\n",
    "    cr = ClassicalRegister(bus_noa, \"readout\")\n",
    "    \n",
    "    qc = QuantumCircuit(qr_a,qr_r,qr_m,qr_bus, cr)\n",
    "    \n",
    "### measruing the correct qubit is the main things\n",
    "    ## here we will make the array which has the ability to couple to the correct qubit it goes like(this is the \n",
    "    ## opposite convention of qiskit, qiskit does |q2q1q0> but this basis on q0q1q2)\n",
    "    ##  1          10         100\n",
    "    ##  0          00         000\n",
    "    ##             11         110\n",
    "    ##             01         010\n",
    "    ##                        101 .... so on basically half the qubits gets concatinated with 0 and other half with 1\n",
    "\n",
    "    div = np.array([1,0])\n",
    "    new_div = [\"\" for x in range(2**a)]\n",
    "\n",
    "        \n",
    "    for i in range(0,a-1): # here i controls the number of times this loop runs, each time we move one level ahead\n",
    "        div = np.append(div,div)\n",
    "        dim = len(div)\n",
    "        for j in range(0,int(dim/2)):\n",
    "            new_div[j] = numConcat(0,div[j])\n",
    "        for j in range(int(dim/2),int(dim)):\n",
    "            new_div[j] = numConcat(1,div[j])\n",
    "        div = new_div[0:dim]\n",
    "    \n",
    "     # for the case of a = 1\n",
    "    if a == 1:\n",
    "        new_div = np.array([1,0])\n",
    "        \n",
    "        \n",
    "    # as the original function uses strings we will need to convert shit to integers\n",
    "    for i in range(0,len(new_div)):\n",
    "            div[i] = int(new_div[i])\n",
    "        \n",
    "\n",
    "        \n",
    "    # cnverting the array to decimal\n",
    "    div_decimal = np.zeros(len(div))\n",
    "    for i in range(0, len(div)):\n",
    "        div_decimal[i]  = int(binaryToDecimal(div[i])) \n",
    "## here is the quantum circuit part of things which do the job\n",
    "\n",
    "\n",
    "\n",
    "    ## the ordering in which we measure will be same just that it will have to be repeated a couole of times\n",
    "    ## 1,0,3,2 to 1,1,0,0,3,3,2,2 for case of two \n",
    "    final_ord_mat = np.zeros([mc,len(div_decimal)])\n",
    "    for i in range(len(div_decimal)):\n",
    "        add = 0\n",
    "        for j in range(mc):\n",
    "            final_ord_mat[j,i] = int(div_decimal[i])*int(mc)\n",
    "            final_ord_mat[j,i] += add\n",
    "            add = add + 1\n",
    "    ## now this matrix has to be concatinated onto one another\n",
    "    final_ord = np.reshape(final_ord_mat,(int(final_ord_mat.size),1), order='F')\n",
    "    \n",
    "    \n",
    "    \n",
    "    ## now we will also need to input address orderings \n",
    "    add_ord = np.zeros(mc*len(div_decimal))\n",
    "    j_last = 0    \n",
    "    for i in range(0, len(div_decimal)):\n",
    "         # the purpose of j_last is is to start from where the last loop stopped in i+j terms\n",
    "        for j in range( j_last, j_last + mc):\n",
    "            add_ord[i+j] = i\n",
    "            j_last = j\n",
    "            \n",
    "    ## this one is here for bus orderings \n",
    "    bus_ord = np.zeros(0)\n",
    "    one_ord = range(0, mc)\n",
    "    for i in range(0,r):\n",
    "        bus_ord = np.append(bus_ord,one_ord)\n",
    "            \n",
    "\n",
    "            \n",
    "    ## finally adding the ccx gates which will copy out whatever is in the memory cells to the Bus\n",
    "    for i in range(0, m ):\n",
    "        qc.ccx(qr_r[int(add_ord[i])], qr_m[int(final_ord[i])], qr_bus[int(bus_ord[i])])\n",
    "    \n",
    "    return qc\n",
    "    "
   ]
  },
  {
   "cell_type": "code",
   "execution_count": null,
   "id": "b187a65a",
   "metadata": {},
   "outputs": [],
   "source": []
  },
  {
   "cell_type": "code",
   "execution_count": null,
   "id": "819c5105",
   "metadata": {},
   "outputs": [],
   "source": []
  }
 ],
 "metadata": {
  "kernelspec": {
   "display_name": "Python 3",
   "language": "python",
   "name": "python3"
  },
  "language_info": {
   "codemirror_mode": {
    "name": "ipython",
    "version": 3
   },
   "file_extension": ".py",
   "mimetype": "text/x-python",
   "name": "python",
   "nbconvert_exporter": "python",
   "pygments_lexer": "ipython3",
   "version": "3.8.8"
  }
 },
 "nbformat": 4,
 "nbformat_minor": 5
}
